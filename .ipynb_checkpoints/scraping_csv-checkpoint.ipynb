{
 "cells": [
  {
   "cell_type": "markdown",
   "id": "bc317b1d-82bb-4b7e-9a9e-398f2b14202e",
   "metadata": {},
   "source": [
    "# Initializing"
   ]
  },
  {
   "cell_type": "code",
   "execution_count": 2,
   "id": "e1b92584-754f-4ba1-9ea5-68856c2cc551",
   "metadata": {},
   "outputs": [],
   "source": [
    "import pandas as pd\n",
    "\n",
    "baseURL = \"https://www.football-data.co.uk/mmz4281/\"\n",
    "spanClubFootballDataFrame = []"
   ]
  },
  {
   "cell_type": "markdown",
   "id": "a7b79def-f884-463a-85d8-3033f49d274a",
   "metadata": {},
   "source": [
    "# Formatting URLs"
   ]
  },
  {
   "cell_type": "code",
   "execution_count": 9,
   "id": "16775a5e-0562-4448-b883-9e2ed7d657b4",
   "metadata": {},
   "outputs": [
    {
     "name": "stdout",
     "output_type": "stream",
     "text": [
      "https://www.football-data.co.uk/mmz4281/0001/SP1.csv\n",
      "https://www.football-data.co.uk/mmz4281/0001/SP2.csv\n",
      "https://www.football-data.co.uk/mmz4281/0102/SP1.csv\n",
      "https://www.football-data.co.uk/mmz4281/0102/SP2.csv\n",
      "https://www.football-data.co.uk/mmz4281/0203/SP1.csv\n",
      "https://www.football-data.co.uk/mmz4281/0203/SP2.csv\n",
      "https://www.football-data.co.uk/mmz4281/0304/SP1.csv\n",
      "https://www.football-data.co.uk/mmz4281/0304/SP2.csv\n",
      "https://www.football-data.co.uk/mmz4281/0405/SP1.csv\n",
      "https://www.football-data.co.uk/mmz4281/0405/SP2.csv\n",
      "https://www.football-data.co.uk/mmz4281/0506/SP1.csv\n",
      "https://www.football-data.co.uk/mmz4281/0506/SP2.csv\n",
      "https://www.football-data.co.uk/mmz4281/0607/SP1.csv\n",
      "https://www.football-data.co.uk/mmz4281/0607/SP2.csv\n",
      "https://www.football-data.co.uk/mmz4281/0708/SP1.csv\n",
      "https://www.football-data.co.uk/mmz4281/0708/SP2.csv\n",
      "https://www.football-data.co.uk/mmz4281/0809/SP1.csv\n",
      "https://www.football-data.co.uk/mmz4281/0809/SP2.csv\n",
      "https://www.football-data.co.uk/mmz4281/0910/SP1.csv\n",
      "https://www.football-data.co.uk/mmz4281/0910/SP2.csv\n",
      "https://www.football-data.co.uk/mmz4281/1011/SP1.csv\n",
      "https://www.football-data.co.uk/mmz4281/1011/SP2.csv\n",
      "https://www.football-data.co.uk/mmz4281/1112/SP1.csv\n",
      "https://www.football-data.co.uk/mmz4281/1112/SP2.csv\n",
      "https://www.football-data.co.uk/mmz4281/1213/SP1.csv\n",
      "https://www.football-data.co.uk/mmz4281/1213/SP2.csv\n",
      "https://www.football-data.co.uk/mmz4281/1314/SP1.csv\n",
      "https://www.football-data.co.uk/mmz4281/1314/SP2.csv\n",
      "https://www.football-data.co.uk/mmz4281/1415/SP1.csv\n",
      "https://www.football-data.co.uk/mmz4281/1415/SP2.csv\n",
      "https://www.football-data.co.uk/mmz4281/1516/SP1.csv\n",
      "https://www.football-data.co.uk/mmz4281/1516/SP2.csv\n",
      "https://www.football-data.co.uk/mmz4281/1617/SP1.csv\n",
      "https://www.football-data.co.uk/mmz4281/1617/SP2.csv\n",
      "https://www.football-data.co.uk/mmz4281/1718/SP1.csv\n",
      "https://www.football-data.co.uk/mmz4281/1718/SP2.csv\n",
      "https://www.football-data.co.uk/mmz4281/1819/SP1.csv\n",
      "https://www.football-data.co.uk/mmz4281/1819/SP2.csv\n",
      "https://www.football-data.co.uk/mmz4281/1920/SP1.csv\n",
      "https://www.football-data.co.uk/mmz4281/1920/SP2.csv\n",
      "https://www.football-data.co.uk/mmz4281/2021/SP1.csv\n",
      "https://www.football-data.co.uk/mmz4281/2021/SP2.csv\n",
      "https://www.football-data.co.uk/mmz4281/2122/SP1.csv\n",
      "https://www.football-data.co.uk/mmz4281/2122/SP2.csv\n",
      "https://www.football-data.co.uk/mmz4281/2223/SP1.csv\n",
      "https://www.football-data.co.uk/mmz4281/2223/SP2.csv\n",
      "https://www.football-data.co.uk/mmz4281/2324/SP1.csv\n",
      "https://www.football-data.co.uk/mmz4281/2324/SP2.csv\n",
      "https://www.football-data.co.uk/mmz4281/2425/SP1.csv\n",
      "https://www.football-data.co.uk/mmz4281/2425/SP2.csv\n"
     ]
    }
   ],
   "source": [
    "# print(str(1).zfill(2)) for getting leading 0.\n",
    "\n",
    "for year in range(0,25):\n",
    "    season = str(year).zfill(2)+str(year+1).zfill(2)\n",
    "    for league in range(1,3):\n",
    "        print(f\"{baseURL}{season}/SP{league}.csv\")\n",
    "        #tDf = pd.read_csv(f\"{baseURL}{season}/SP{league}.csv\")\n",
    "        "
   ]
  },
  {
   "cell_type": "code",
   "execution_count": null,
   "id": "883da255-5b87-4b21-a60b-844c965279a9",
   "metadata": {},
   "outputs": [],
   "source": [
    "for year in range(0,25):\n",
    "    season = str(year).zfill(2)+str(year+1).zfill(2)\n",
    "    for league in range(1,3):\n",
    "        tDf = pd.read_csv(f\"{baseURL}{season}/SP{league}.csv\", encoding = \"unicode_escape\")"
   ]
  }
 ],
 "metadata": {
  "kernelspec": {
   "display_name": "Python [conda env:base] *",
   "language": "python",
   "name": "conda-base-py"
  },
  "language_info": {
   "codemirror_mode": {
    "name": "ipython",
    "version": 3
   },
   "file_extension": ".py",
   "mimetype": "text/x-python",
   "name": "python",
   "nbconvert_exporter": "python",
   "pygments_lexer": "ipython3",
   "version": "3.12.7"
  }
 },
 "nbformat": 4,
 "nbformat_minor": 5
}
