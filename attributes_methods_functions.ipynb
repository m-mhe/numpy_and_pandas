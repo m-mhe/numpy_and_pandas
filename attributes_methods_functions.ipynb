{
 "cells": [
  {
   "cell_type": "markdown",
   "id": "645ac4d8-6de1-440b-9367-a625f59a9faa",
   "metadata": {},
   "source": [
    "# Attributes"
   ]
  },
  {
   "cell_type": "code",
   "execution_count": 9,
   "id": "5d872729-1f46-4328-9d9c-7c125658536c",
   "metadata": {},
   "outputs": [
    {
     "name": "stdout",
     "output_type": "stream",
     "text": [
      "(1679, 3)\n",
      "\n",
      "\n",
      "RangeIndex(start=0, stop=1679, step=1)\n",
      "\n",
      "\n",
      "Index(['Name', 'Roll', 'Zip Code'], dtype='object')\n",
      "\n",
      "\n",
      "Name        object\n",
      "Roll         int64\n",
      "Zip Code     int64\n",
      "dtype: object\n"
     ]
    }
   ],
   "source": [
    "import pandas as pd\n",
    "import numpy as np\n",
    "dfFromCsv = pd.read_csv(\"dummy.csv\")\n",
    "\n",
    "print(dfFromCsv.shape) # Prints row and column number.\n",
    "print(\"\\n\")\n",
    "print(dfFromCsv.index) # Prints index range.\n",
    "print(\"\\n\")\n",
    "print(dfFromCsv.columns) # Prints columns name and it's data type (object means string as datatype).\n",
    "print(\"\\n\")\n",
    "print(dfFromCsv.dtypes) # Prints each datatype under columns and column data type."
   ]
  },
  {
   "cell_type": "markdown",
   "id": "e56534e3-78c2-4ce8-8f5a-9187506dff5d",
   "metadata": {},
   "source": [
    "# Methods"
   ]
  },
  {
   "cell_type": "code",
   "execution_count": 11,
   "id": "9a765f7f-546e-4f98-989b-91940ce0cbaf",
   "metadata": {},
   "outputs": [
    {
     "name": "stdout",
     "output_type": "stream",
     "text": [
      "      Name  Roll  Zip Code\n",
      "0     Emon     1      7894\n",
      "1     Upal     2      4577\n",
      "2    Jasim     3      1123\n",
      "3  Urbashi     4      1457\n",
      "4        A     5      1791\n",
      "\n",
      "\n",
      "         Name  Roll  Zip Code\n",
      "1674        C  1675    559571\n",
      "1675     Emon  1676    559905\n",
      "1676     Upal  1677    560239\n",
      "1677    Jasim  1678    560573\n",
      "1678  Urbashi  1679    560907\n",
      "\n",
      "\n",
      "<class 'pandas.core.frame.DataFrame'>\n",
      "RangeIndex: 1679 entries, 0 to 1678\n",
      "Data columns (total 3 columns):\n",
      " #   Column    Non-Null Count  Dtype \n",
      "---  ------    --------------  ----- \n",
      " 0   Name      1679 non-null   object\n",
      " 1   Roll      1679 non-null   int64 \n",
      " 2   Zip Code  1679 non-null   int64 \n",
      "dtypes: int64(2), object(1)\n",
      "memory usage: 39.5+ KB\n",
      "None\n",
      "\n",
      "\n",
      "              Roll       Zip Code\n",
      "count  1679.000000    1679.000000\n",
      "mean    840.000000  280687.686718\n",
      "std     484.829867  161921.729658\n",
      "min       1.000000    1123.000000\n",
      "25%     420.500000  140568.000000\n",
      "50%     840.000000  280681.000000\n",
      "75%    1259.500000  420794.000000\n",
      "max    1679.000000  560907.000000\n"
     ]
    }
   ],
   "source": [
    "print(dfFromCsv.head())\n",
    "print(\"\\n\")\n",
    "print(dfFromCsv.tail())\n",
    "print(\"\\n\")\n",
    "print(dfFromCsv.info())\n",
    "print(\"\\n\")\n",
    "print(dfFromCsv.describe())"
   ]
  },
  {
   "cell_type": "markdown",
   "id": "7f8f6fc5-9a38-4691-adfa-fb85dad307c9",
   "metadata": {},
   "source": [
    "# Functions"
   ]
  },
  {
   "cell_type": "code",
   "execution_count": 22,
   "id": "24ce54da-78d1-4602-baff-b2d0f47e42c1",
   "metadata": {},
   "outputs": [
    {
     "name": "stdout",
     "output_type": "stream",
     "text": [
      "1679\n",
      "\n",
      "\n",
      "Zip Code\n",
      "\n",
      "\n",
      "Name\n",
      "\n",
      "\n",
      "<class 'pandas.core.frame.DataFrame'>\n",
      "\n",
      "\n",
      "         Name  Roll  Zip Code\n",
      "0        Emon     1      7894\n",
      "1        Upal     2      4577\n",
      "2       Jasim     3      1123\n",
      "3     Urbashi     4      1457\n",
      "4           A     5      1791\n",
      "...       ...   ...       ...\n",
      "1674        C  1675    559571\n",
      "1675     Emon  1676    559905\n",
      "1676     Upal  1677    560239\n",
      "1677    Jasim  1678    560573\n",
      "1678  Urbashi  1679    560907\n",
      "\n",
      "[1679 rows x 3 columns]\n"
     ]
    }
   ],
   "source": [
    "print(len(dfFromCsv)) # Prints row number.\n",
    "print(\"\\n\")\n",
    "print(max(dfFromCsv)) # Prints column with highest values.\n",
    "print(\"\\n\")\n",
    "print(min(dfFromCsv)) # Prints column with lowest values.\n",
    "print(\"\\n\")\n",
    "print(type(dfFromCsv)) # Prints data frame type.\n",
    "print(\"\\n\")\n",
    "print(round(dfFromCsv, 2)) # Rounds every float numbers of data frame in to 2 decemal place and prints the data frame."
   ]
  },
  {
   "cell_type": "code",
   "execution_count": null,
   "id": "1bce74ce-711f-43e2-adef-2351046ab1d2",
   "metadata": {},
   "outputs": [],
   "source": []
  }
 ],
 "metadata": {
  "kernelspec": {
   "display_name": "Python [conda env:base] *",
   "language": "python",
   "name": "conda-base-py"
  },
  "language_info": {
   "codemirror_mode": {
    "name": "ipython",
    "version": 3
   },
   "file_extension": ".py",
   "mimetype": "text/x-python",
   "name": "python",
   "nbconvert_exporter": "python",
   "pygments_lexer": "ipython3",
   "version": "3.12.7"
  }
 },
 "nbformat": 4,
 "nbformat_minor": 5
}
